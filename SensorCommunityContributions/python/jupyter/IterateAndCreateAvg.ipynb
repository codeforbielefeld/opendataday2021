{
 "cells": [
  {
   "cell_type": "markdown",
   "metadata": {},
   "source": [
    "# synthesis of Sensor.Community data files (avg of 5min)\n",
    "\n",
    "Synthesis of 5 minute data timeframes of each sensor file from archive.sensor.community\n",
    "(resample of 5min intervall)\n",
    "\n",
    "modifications:\n",
    "* 2018  ; Andreas Cz ; initial version\n",
    "* 2020-01-01 ; Andreas Cz ; modifications to use sensor.community instead of luftdaten.info"
   ]
  },
  {
   "cell_type": "code",
   "execution_count": 2,
   "metadata": {},
   "outputs": [],
   "source": [
    "import os\n",
    "import fnmatch\n",
    "import re\n",
    "import pandas as pd\n",
    "import datascience as ds\n",
    "import datetime\n",
    "from pathlib import Path"
   ]
  },
  {
   "cell_type": "code",
   "execution_count": 3,
   "metadata": {},
   "outputs": [],
   "source": [
    "archivedir = os.fsencode(\"/home/cognac/projects/AirQuality/LuftdatenInfo/archive.luftdaten.info/2017/12_Dec/2017-12-02\")\n",
    "archivedir = \"/home/cognac/projects/AirQuality/LuftdatenInfo/archive.luftdaten.info/2017/12_Dec/2017-12-02\"\n",
    "archivedir = \"/media/cognac/Maxtor/AirQualityData/archive.luftdaten.info/2017/12_Dec/2017-12-02\""
   ]
  },
  {
   "cell_type": "code",
   "execution_count": null,
   "metadata": {},
   "outputs": [
    {
     "name": "stdout",
     "output_type": "stream",
     "text": [
      "/media/cognac/Maxtor/AirQualityData/archive.luftdaten.info/2019/04_Apr/2019-04-01\n",
      "/media/cognac/Maxtor/AirQualityData/archive.luftdaten.info/2019/04_Apr/2019-04-02\n",
      "/media/cognac/Maxtor/AirQualityData/archive.luftdaten.info/2019/04_Apr/2019-04-03\n",
      "/media/cognac/Maxtor/AirQualityData/archive.luftdaten.info/2019/04_Apr/2019-04-04\n",
      "/media/cognac/Maxtor/AirQualityData/archive.luftdaten.info/2019/04_Apr/2019-04-05\n",
      "/media/cognac/Maxtor/AirQualityData/archive.luftdaten.info/2019/04_Apr/2019-04-06\n",
      "/media/cognac/Maxtor/AirQualityData/archive.luftdaten.info/2019/04_Apr/2019-04-07\n",
      "/media/cognac/Maxtor/AirQualityData/archive.luftdaten.info/2019/04_Apr/2019-04-08\n",
      "/media/cognac/Maxtor/AirQualityData/archive.luftdaten.info/2019/04_Apr/2019-04-09\n",
      "/media/cognac/Maxtor/AirQualityData/archive.luftdaten.info/2019/04_Apr/2019-04-10\n",
      "/media/cognac/Maxtor/AirQualityData/archive.luftdaten.info/2019/04_Apr/2019-04-11\n",
      "/media/cognac/Maxtor/AirQualityData/archive.luftdaten.info/2019/04_Apr/2019-04-12\n",
      "/media/cognac/Maxtor/AirQualityData/archive.luftdaten.info/2019/04_Apr/2019-04-13\n"
     ]
    }
   ],
   "source": [
    "processingYear=\"2019\"\n",
    "processingMonth=\"03\"\n",
    "\n",
    "years=[\"2016\",\"2017\",\"2018\",\"2019\",\"2020\",\"2021\"]\n",
    "months=[\"03\",\"04\",\"05\",\"06\"]\n",
    "months=[\"04\",\"05\",\"06\"]\n",
    "\n",
    "for processingMonth in months:\n",
    "\n",
    "    processingDate=processingYear+\"-\"+processingMonth+\"-01\"\n",
    "    mydate = datetime.datetime.strptime(processingDate, \"%Y-%m-%d\")\n",
    "    pDate=processingDate.replace('-','')\n",
    "    pYear=processingDate[:4]\n",
    "    archivebasedir = \"/media/cognac/Maxtor/AirQualityData/archive.luftdaten.info/\"\n",
    "    if os.path.isfile(archivebasedir+pYear+\"/\"+mydate.strftime(\"%m\")+'_'+mydate.strftime(\"%b\")+\"/mean.done\"):\n",
    "        continue    \n",
    "    for i in range(1,32):\n",
    "#    archivedir = \"/home/cognac/projects/AirQuality/LuftdatenInfo/archive.luftdaten.info/\"+pYear+\"/\"+mydate.strftime(\"%m\")+'_'+mydate.strftime(\"%b\")+\"/\"+pYear+\"-\"+mydate.strftime(\"%m\")+\"-\"+str(i).zfill(2)\n",
    "        archivedir = archivebasedir+pYear+\"/\"+mydate.strftime(\"%m\")+'_'+mydate.strftime(\"%b\")+\"/\"+pYear+\"-\"+mydate.strftime(\"%m\")+\"-\"+str(i).zfill(2)\n",
    "#    sensorFiles=fnmatch.filter(os.listdir(archivedir),'*ppd42ns*csv.xz')\n",
    "#    sensorFiles=sensorFiles + fnmatch.filter(os.listdir(archivedir),'*sds011*csv.xz')\n",
    "        if os.path.isdir(archivedir):\n",
    "            sensorFiles=fnmatch.filter(os.listdir(archivedir), '*_sensor_*csv.xz')\n",
    "            #sensorFiles\n",
    "            print(archivedir)\n",
    "\n",
    "            for file in sensorFiles:\n",
    "                if os.path.isfile(archivedir +\"/\"+ file + \".mean\") or os.path.isfile(archivedir +\"/\"+ file + \".mean.xz\"):\n",
    "                    continue\n",
    "#               print(archivedir +\"/\"+ file)\n",
    "                pm=ds.Table.read_table(archivedir +\"/\"+ file, sep=';')\n",
    "                dfpm=pm.to_df()\n",
    "                dfpm['timestamp'] = pd.to_datetime(dfpm['timestamp'])\n",
    "                dfpm=dfpm.set_index('timestamp')\n",
    "                resultMeanPM=dfpm.resample('5min').mean()\n",
    "                resultMeanPM.to_csv(archivedir +\"/\"+ file + \".mean\")\n",
    "                # compress with xz command line util\n",
    "                os.system(\"/usr/bin/xz -z9f \"+archivedir +\"/\"+ file + \".mean\")\n",
    "\n",
    "    Path(archivebasedir+pYear+\"/\"+mydate.strftime(\"%m\")+'_'+mydate.strftime(\"%b\")+\"/mean.done\").touch()"
   ]
  },
  {
   "cell_type": "code",
   "execution_count": null,
   "metadata": {},
   "outputs": [],
   "source": []
  }
 ],
 "metadata": {
  "kernelspec": {
   "display_name": "Python 3",
   "language": "python",
   "name": "python3"
  },
  "language_info": {
   "codemirror_mode": {
    "name": "ipython",
    "version": 3
   },
   "file_extension": ".py",
   "mimetype": "text/x-python",
   "name": "python",
   "nbconvert_exporter": "python",
   "pygments_lexer": "ipython3",
   "version": "3.8.5"
  }
 },
 "nbformat": 4,
 "nbformat_minor": 2
}
